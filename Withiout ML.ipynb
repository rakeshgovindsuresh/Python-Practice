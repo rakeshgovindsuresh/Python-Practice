{
  "nbformat": 4,
  "nbformat_minor": 0,
  "metadata": {
    "colab": {
      "provenance": [],
      "authorship_tag": "ABX9TyOx7VGVrSOZmshX6vokjrk4",
      "include_colab_link": true
    },
    "kernelspec": {
      "name": "python3",
      "display_name": "Python 3"
    },
    "language_info": {
      "name": "python"
    }
  },
  "cells": [
    {
      "cell_type": "markdown",
      "metadata": {
        "id": "view-in-github",
        "colab_type": "text"
      },
      "source": [
        "<a href=\"https://colab.research.google.com/github/rakeshgovindsuresh/Python-Practice/blob/main/Withiout%20ML.ipynb\" target=\"_parent\"><img src=\"https://colab.research.google.com/assets/colab-badge.svg\" alt=\"Open In Colab\"/></a>"
      ]
    },
    {
      "cell_type": "code",
      "execution_count": 5,
      "metadata": {
        "id": "71Bh2fBQob_l"
      },
      "outputs": [],
      "source": [
        "import pandas as pd\n",
        "from folium import Map, CircleMarker\n",
        "import numpy as np\n",
        "\n",
        "# Sample data loading and processing\n",
        "df = pd.read_csv('/content/Combined no2 dataset (1).csv')\n",
        "df['datetimeUtc'] = pd.to_datetime(df['datetimeUtc'])\n",
        "df['day_of_week'] = df['datetimeUtc'].dt.day_name()\n",
        "df['hour'] = df['datetimeUtc'].dt.hour\n",
        "def classify_period(hour):\n",
        "    if 6 <= hour < 14:\n",
        "        return 'Morning'\n",
        "    elif 14 <= hour < 22:\n",
        "        return 'Evening'\n",
        "    else:\n",
        "        return 'Night'\n",
        "\n",
        "df['TimeOfDay'] = df['hour'].apply(classify_period)\n",
        "# Assume classify_period and classify_no2 functions are defined as before\n",
        "df['TimeOfDay'] = df['hour'].apply(classify_period)\n",
        "def classify_no2(value):\n",
        "    if value < 30:  # hypothetical threshold\n",
        "        return 'Good'\n",
        "    elif 30 <= value < 65:  # hypothetical threshold\n",
        "        return 'Neutral'\n",
        "    else:\n",
        "        return 'Dangerous'\n",
        "\n",
        "df['NO2_Level'] = df['value'].apply(classify_no2)\n",
        "\n",
        "def create_map_for_day(data, day_name):\n",
        "    # Filter data for the given day and for morning\n",
        "    daily_data = data[(data['day_of_week'] == day_name) & (data['TimeOfDay'] == 'Morning')]\n",
        "\n",
        "    # Mean location to center the map\n",
        "    center_lat = daily_data['latitude'].mean() if not daily_data.empty else 0\n",
        "    center_lon = daily_data['longitude'].mean() if not daily_data.empty else 0\n",
        "\n",
        "    # Create the map\n",
        "    map = Map(location=[center_lat, center_lon], zoom_start=5)\n",
        "\n",
        "    # Define colors for each classification\n",
        "    colors = {'Dangerous': 'red', 'Neutral': 'yellow', 'Good': 'green'}\n",
        "\n",
        "    # Add markers\n",
        "    for _, row in daily_data.iterrows():\n",
        "        CircleMarker(\n",
        "            location=[row['latitude'], row['longitude']],\n",
        "            radius=5,\n",
        "            popup=f\"{row['location_name']}: {row['NO2_Level']}\",\n",
        "            color=colors.get(row['NO2_Level'], 'blue'),  # Default to blue if key not found\n",
        "            fill=True,\n",
        "            fill_color=colors.get(row['NO2_Level'], 'blue')\n",
        "        ).add_to(map)\n",
        "\n",
        "    # Save the map\n",
        "    map.save(f\"no2_classification_map_{day_name}.html\")\n",
        "\n",
        "# Generate maps for each day of the week\n",
        "days_of_week = ['Monday', 'Tuesday', 'Wednesday', 'Thursday', 'Friday', 'Saturday', 'Sunday']\n",
        "for day in days_of_week:\n",
        "    create_map_for_day(df, day)\n",
        "\n"
      ]
    }
  ]
}